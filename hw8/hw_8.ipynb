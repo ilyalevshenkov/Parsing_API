{
 "cells": [
  {
   "cell_type": "markdown",
   "metadata": {},
   "source": [
    "#\n",
    "\n",
    "#### Урок 8. Работа с данными\n",
    "\n",
    "1.  Скачайте датасет House Prices Kaggle со страницы конкурса (https://www.kaggle.com/competitions/house-prices-advanced-regression-techniques/data) и сохраните его в том же каталоге, что и ваш скрипт или блокнот Python.\n",
    "2.  Загрузите датасет в pandas DataFrame под названием df.\n",
    "3.  Выполните предварительную обработку данных, выполнив следующие шаги:\n",
    "\n",
    "- a. Определите и обработайте отсутствующие значения в датасете. Определите, в каких столбцах есть отсутствующие значения, и решите, как их обработать (например, заполнить средним, медианой или модой, или отбросить столбцы/строки с существенными отсутствующими значениями).\n",
    "- b. Проверьте и обработайте любые дублирующиеся строки в датасете.\n",
    "- c. Проанализируйте типы данных в каждом столбце и при необходимости преобразуйте их (например, из объектных в числовые типы).\n",
    "\n",
    "4.  Проведите разведочный анализ данных (EDA), ответив на следующие вопросы:\n",
    "\n",
    "- a. Каково распределение целевой переменной 'SalePrice'? Есть ли какие-либо выбросы?\n",
    "- b. Исследуйте взаимосвязи между целевой переменной и другими характеристиками. Есть ли сильные корреляции?\n",
    "- c. Исследуйте распределение и взаимосвязи других важных характеристик, таких как 'OverallQual', 'GrLivArea', 'GarageCars' и т.д. d.  \n",
    "  Визуализируйте данные, используя соответствующие графики (например, гистограммы, диаграммы рассеяния, квадратные диаграммы), чтобы получить представление о датасете.\n",
    "\n",
    "5.  Выполните проектирование признаков путем реализации следующих преобразований: a. Работайте с категориальными переменными, применяя one-hot encoding или label encoding, в зависимости от характера переменной. b. При необходимости создайте новые характеристики, такие как общая площадь или возраст объекта недвижимости, путем объединения существующих характеристик.\n",
    "6.  Сохраните очищенный и преобразованный набор данных в новый CSV-файл под названием 'cleaned_house_prices.csv'.\n"
   ]
  },
  {
   "cell_type": "code",
   "execution_count": 1,
   "metadata": {},
   "outputs": [
    {
     "ename": "ModuleNotFoundError",
     "evalue": "No module named 'scipy'",
     "output_type": "error",
     "traceback": [
      "\u001b[1;31m---------------------------------------------------------------------------\u001b[0m",
      "\u001b[1;31mModuleNotFoundError\u001b[0m                       Traceback (most recent call last)",
      "Cell \u001b[1;32mIn[1], line 3\u001b[0m\n\u001b[0;32m      1\u001b[0m \u001b[38;5;28;01mimport\u001b[39;00m \u001b[38;5;21;01mpandas\u001b[39;00m \u001b[38;5;28;01mas\u001b[39;00m \u001b[38;5;21;01mpd\u001b[39;00m\n\u001b[0;32m      2\u001b[0m \u001b[38;5;28;01mimport\u001b[39;00m \u001b[38;5;21;01mnumpy\u001b[39;00m \u001b[38;5;28;01mas\u001b[39;00m \u001b[38;5;21;01mnp\u001b[39;00m\n\u001b[1;32m----> 3\u001b[0m \u001b[38;5;28;01mfrom\u001b[39;00m \u001b[38;5;21;01mscipy\u001b[39;00m \u001b[38;5;28;01mimport\u001b[39;00m stats\n\u001b[0;32m      4\u001b[0m \u001b[38;5;28;01mfrom\u001b[39;00m \u001b[38;5;21;01mscipy\u001b[39;00m\u001b[38;5;21;01m.\u001b[39;00m\u001b[38;5;21;01mstats\u001b[39;00m \u001b[38;5;28;01mimport\u001b[39;00m spearmanr\n\u001b[0;32m      5\u001b[0m \u001b[38;5;28;01mfrom\u001b[39;00m \u001b[38;5;21;01msklearn\u001b[39;00m\u001b[38;5;21;01m.\u001b[39;00m\u001b[38;5;21;01mpreprocessing\u001b[39;00m \u001b[38;5;28;01mimport\u001b[39;00m LabelEncoder\n",
      "\u001b[1;31mModuleNotFoundError\u001b[0m: No module named 'scipy'"
     ]
    }
   ],
   "source": [
    "import pandas as pd\n",
    "import numpy as np\n",
    "from scipy import stats\n",
    "from scipy.stats import spearmanr\n",
    "from sklearn.preprocessing import LabelEncoder\n",
    "import seaborn as sns\n",
    "import matplotlib.pyplot as plt\n",
    "from itertools import product\n"
   ]
  },
  {
   "cell_type": "markdown",
   "metadata": {},
   "source": [
    "Загрузите датасет в pandas DataFrame под названием df.\n"
   ]
  },
  {
   "cell_type": "code",
   "execution_count": null,
   "metadata": {},
   "outputs": [],
   "source": [
    "df = pd.read_csv(\"train.csv\")\n",
    "df.head()\n"
   ]
  },
  {
   "cell_type": "markdown",
   "metadata": {},
   "source": [
    "Выполните предварительную обработку данных, выполнив следующие шаги:\n",
    "\n",
    "- a. Определите и обработайте отсутствующие значения в датасете. Определите, в каких столбцах есть отсутствующие значения, и решите, как их обработать (например, заполнить средним, медианой или модой, или отбросить столбцы/строки с существенными отсутствующими значениями).\n"
   ]
  },
  {
   "cell_type": "code",
   "execution_count": null,
   "metadata": {},
   "outputs": [],
   "source": [
    "df.info()\n"
   ]
  },
  {
   "cell_type": "code",
   "execution_count": null,
   "metadata": {},
   "outputs": [],
   "source": [
    "pd.set_option(\"display.max_rows\", None)\n",
    "print(df.isnull().sum())\n",
    "pd.reset_option(\"display.max_rows\")\n"
   ]
  },
  {
   "cell_type": "code",
   "execution_count": null,
   "metadata": {},
   "outputs": [],
   "source": [
    "# определяем столбцы, которые нужно удалить, указаны в списке «columns_to_remove»\n",
    "columns_with_name = [\"Alley\", \"MasVnrType\", \"BsmtExposure\", \"FireplaceQu\", \"PoolQC\", \"Fence\", \"MiscFeature\"]\n",
    "\n",
    "\n",
    "df = df.drop(columns=columns_with_name)\n"
   ]
  },
  {
   "cell_type": "code",
   "execution_count": null,
   "metadata": {},
   "outputs": [],
   "source": [
    "# вичисляем  среднее значение для столбцов «LotFrontage» и «MasVnrArea» в DataFrame .\n",
    "columns_with_name = [\"LotFrontage\", \"MasVnrArea\"]\n",
    "\n",
    "\n",
    "\n",
    "for column in columns_with_name:\n",
    "\n",
    "\n",
    "    average_value = df[column].mean()\n",
    "    print(average_value)\n",
    "    df[column] = df[column].fillna(average_value)\n"
   ]
  },
  {
   "cell_type": "code",
   "execution_count": null,
   "metadata": {},
   "outputs": [],
   "source": [
    "# Этот фрагмент кода перебирает список имен столбцов («columns_to_mode») и для каждого столбца находит наиболее часто используемое значение этого столбца. Затем он заполняет все недостающие значения в этом столбце вычесленным значением.\n",
    "columns_with_name = [\"BsmtQual\", \"BsmtCond\", \"BsmtFinType1\", \"BsmtFinType2\", \"GarageType\", \"GarageYrBlt\", \"GarageFinish\", \"GarageQual\", \"GarageCond\"]\n",
    "for column in columns_with_name:\n",
    "    frequently_value = df[column].mode()\n",
    "    df[column] = df[column].fillna(frequently_value[0])\n"
   ]
  },
  {
   "cell_type": "code",
   "execution_count": null,
   "metadata": {},
   "outputs": [],
   "source": [
    "df.info()\n"
   ]
  },
  {
   "cell_type": "markdown",
   "metadata": {},
   "source": [
    "- b. Проверьте и обработайте любые дублирующиеся строки в датасете.\n"
   ]
  },
  {
   "cell_type": "code",
   "execution_count": null,
   "metadata": {},
   "outputs": [],
   "source": [
    "duplicates = df.duplicated()\n",
    "df[duplicates]\n"
   ]
  },
  {
   "cell_type": "markdown",
   "metadata": {},
   "source": [
    "- c. Проанализируйте типы данных в каждом столбце и при необходимости преобразуйте их (например, из объектных в числовые типы).\n"
   ]
  },
  {
   "cell_type": "code",
   "execution_count": null,
   "metadata": {},
   "outputs": [],
   "source": [
    "df.describe().round(1)\n"
   ]
  },
  {
   "cell_type": "code",
   "execution_count": null,
   "metadata": {},
   "outputs": [],
   "source": [
    "# Проверка всех вариантов значений в объектных столбцах датафрейма\n",
    "for column_name in df.columns:\n",
    "    # Проверяем, является ли столбец объектным типом\n",
    "    if df[column_name].dtype == \"object\":\n",
    "        # Получаем уникальные значения в столбце\n",
    "        unique_values = df[column_name].unique()\n",
    "        # Выводим уникальные значения в столбце\n",
    "        print(f\"Найдены уникальные значения в столбце '{column_name}': {unique_values}\")\n"
   ]
  },
  {
   "cell_type": "markdown",
   "metadata": {},
   "source": [
    "Проведите разведочный анализ данных (EDA), ответив на следующие вопросы:\n",
    "\n",
    "- a. Каково распределение целевой переменной 'SalePrice'? Есть ли какие-либо выбросы?\n"
   ]
  },
  {
   "cell_type": "code",
   "execution_count": null,
   "metadata": {},
   "outputs": [],
   "source": [
    "df[\"SalePrice\"].describe().round(2)\n"
   ]
  },
  {
   "cell_type": "code",
   "execution_count": null,
   "metadata": {},
   "outputs": [],
   "source": [
    "plt.figure(figsize=(8, 6))\n",
    "sns.histplot(df, x=\"SalePrice\", hue=\"MSZoning\", kde=True, multiple=\"stack\")\n",
    "plt.title(\"Histplot of SalePrice by MSZoning\")\n",
    "plt.xlabel(\"SalePrice\")\n",
    "plt.ylabel(\"MSZoning\")\n",
    "plt.show()\n"
   ]
  },
  {
   "cell_type": "code",
   "execution_count": null,
   "metadata": {},
   "outputs": [],
   "source": [
    "# Создание коробчатой диаграммы\n",
    "plt.figure(figsize=(10, 6))\n",
    "sns.boxplot(x=\"SalePrice\", y=\"MSZoning\", data=df)\n",
    "plt.title(\"Boxplot of SalePrice by MSZoning\")\n",
    "plt.xlabel(\"SalePrice\")\n",
    "plt.ylabel(\"MSZoning\")\n",
    "plt.show()\n"
   ]
  },
  {
   "cell_type": "code",
   "execution_count": null,
   "metadata": {},
   "outputs": [],
   "source": [
    "# График оценки плотности для данных «SalePrice»\n",
    "plt.figure(figsize=(8, 6))\n",
    "sns.kdeplot(df[\"SalePrice\"], fill=True)\n",
    "plt.title(\"SalePrice\")\n",
    "plt.xlabel(\"Price\")\n",
    "plt.ylabel(\"Probability density\")\n",
    "\n",
    "\n",
    "plt.show()\n"
   ]
  },
  {
   "cell_type": "code",
   "execution_count": null,
   "metadata": {},
   "outputs": [],
   "source": [
    "# Расчет Z-статистики для определения выбросов в столбце 'SalePrice'\n",
    "sale_price_z_scores = stats.zscore(df[\"SalePrice\"])\n",
    "\n",
    "# Определение выбросов на основании Z-статистики\n",
    "# Выбросы считаются теми значениями, которые отклоняются от среднего значения более чем на 3 стандартных отклонения\n",
    "outliers_sale_price_z_scores = df[(sale_price_z_scores < -3) | (sale_price_z_scores > 3)]\n",
    "\n",
    "# Расчет межквантильного интервала для столбца 'SalePrice'\n",
    "first_quartile = df[\"SalePrice\"].quantile(0.25)\n",
    "third_quartile = df[\"SalePrice\"].quantile(0.75)\n",
    "interquartile_range = third_quartile - first_quartile\n",
    "\n",
    "# Определение выбросов на основании межквантильного интервала\n",
    "# Выбросы считаются теми значениями, которые находятся ниже (Q1 - 1.5 * IQR) или выше (Q3 + 1.5 * IQR)\n",
    "outliers_iqr_sale_price = df[(df[\"SalePrice\"] < (first_quartile - 1.5 * interquartile_range)) | (df[\"SalePrice\"] > (third_quartile + 1.5 * interquartile_range))]\n"
   ]
  },
  {
   "cell_type": "code",
   "execution_count": null,
   "metadata": {},
   "outputs": [],
   "source": [
    "pd.set_option(\"display.max_rows\", None)\n",
    "print(f\"Идентификаторы записей для значений цен-выбросов на основании Z-статистики:\\n{outliers_sale_price_z_scores[[\"Id\", \"SalePrice\"]]}\")\n"
   ]
  },
  {
   "cell_type": "code",
   "execution_count": null,
   "metadata": {},
   "outputs": [],
   "source": [
    "print(f\"Идентификаторы записей для значений цен-выбросов на основании межквантильного интервала:\\n{outliers_iqr_sale_price[[\"Id\", \"SalePrice\"]]}\")\n",
    "pd.reset_option(\"display.max_rows\")\n"
   ]
  },
  {
   "cell_type": "markdown",
   "metadata": {},
   "source": [
    "- b. Исследуйте взаимосвязи между целевой переменной и другими характеристиками. Есть ли сильные корреляции?\n"
   ]
  },
  {
   "cell_type": "code",
   "execution_count": null,
   "metadata": {},
   "outputs": [],
   "source": [
    "# Этот фрагмент кода вычисляет коэффициенты корреляции Спирмена и значения p между переменной «SalePrice» и всеми другими количественными переменными\n",
    "variable = \"SalePrice\"\n",
    "\n",
    "# Выбор только количественных(числовых) переменных\n",
    "quantitative_vars = df.select_dtypes(include=[\"int64\", \"float64\"])\n",
    "\n",
    "# Рассчет коэффициента корреляции Спирмена и p-value\n",
    "results = {}\n",
    "for col in quantitative_vars.columns:\n",
    "    if col != variable:\n",
    "        spearman_corr, p_value = spearmanr(df[variable], df[col])\n",
    "        results[col] = {\"Spearman_corr\": spearman_corr, \"p_value\": p_value}\n",
    "\n",
    "results_df = pd.DataFrame.from_dict(results, orient=\"index\")\n",
    "\n",
    "print(\"Коэффициенты корреляции Спирмена и их р-значения с переменной \", variable, \":\")\n",
    "print(results_df)\n"
   ]
  },
  {
   "cell_type": "code",
   "execution_count": null,
   "metadata": {},
   "outputs": [],
   "source": [
    "# Фильтруем переменные, у которых коэффициент корреляции Спирмена превышает 0,7 и значение p меньше или равно 0,05, что указывает на сильную и статистически значимую корреляцию с переменной «SalePrice».\n",
    "strong_correlations = {col: values for col, values in results.items() if values[\"Spearman_corr\"] > 0.7 and values[\"p_value\"] <= 0.05}\n",
    "\n",
    "sstrong_correlations_df = pd.DataFrame.from_dict(strong_correlations, orient=\"index\")\n",
    "print(f\"Важные высокие корреляции между переменной 'SalePrice' и другими переменными:\\n{sstrong_correlations_df}\")\n"
   ]
  },
  {
   "cell_type": "markdown",
   "metadata": {},
   "source": [
    "c. Исследуйте распределение и взаимосвязи других важных характеристик, таких как 'OverallQual', 'GrLivArea', 'GarageCars' и т.д.\n"
   ]
  },
  {
   "cell_type": "code",
   "execution_count": null,
   "metadata": {},
   "outputs": [],
   "source": [
    "columns_with_name = [\"OverallQual\", \"GrLivArea\", \"GarageCars\"]\n",
    "df[columns_with_name].describe().round(2)\n"
   ]
  },
  {
   "cell_type": "code",
   "execution_count": null,
   "metadata": {},
   "outputs": [],
   "source": [
    "# Гистограмма\n",
    "num_rows = 1\n",
    "num_cols = 3\n",
    "\n",
    "fig, axes = plt.subplots(num_rows, num_cols, figsize=(12, 8))\n",
    "\n",
    "axes = axes.flatten()\n",
    "\n",
    "for i, col in enumerate(columns_with_name):\n",
    "    sns.histplot(data=df[col], kde=True, ax=axes[i])\n",
    "    axes[i].set_title(f\"Histplot {col}\")\n",
    "    axes[i].set_xlabel(\"Meaning\")\n",
    "    axes[i].set_ylabel(\"Frequency\")\n",
    "\n",
    "plt.tight_layout()\n",
    "plt.show()\n"
   ]
  },
  {
   "cell_type": "markdown",
   "metadata": {},
   "source": [
    "#### Вывод: \n",
    "переменные 'OverallQual' и 'GarageCars' демонстрируют мультимодальное распределение, в то время как переменная 'GrLivArea' имеет лог-нормальное распределение."
   ]
  },
  {
   "cell_type": "code",
   "execution_count": null,
   "metadata": {},
   "outputs": [],
   "source": [
    "# Отрисовка гистограммы распределения важных переменных\n",
    "num_rows = 1\n",
    "num_cols = 3\n",
    "\n",
    "fig, axes = plt.subplots(num_rows, num_cols, figsize=(12, 8))\n",
    "\n",
    "axes = axes.flatten()\n",
    "\n",
    "for i, col in enumerate(columns_with_name):\n",
    "    sns.boxplot(data=df, y=col, ax=axes[i])\n",
    "    axes[i].set_title(f\"Boxplot {col}\")\n",
    "    axes[i].set_xlabel(\"Meaning\")\n",
    "    axes[i].set_ylabel(\"Frequency\")\n",
    "\n",
    "plt.tight_layout()\n",
    "plt.show()\n"
   ]
  },
  {
   "cell_type": "markdown",
   "metadata": {},
   "source": [
    "#### Вывод:\n",
    "Переменная 'OverallQual' не демонстрирует выбросов, переменная 'GarageCars' имеет одно значительно отклоняющееся значение, а переменная 'GrLivArea' содержит множество выбросов"
   ]
  },
  {
   "cell_type": "markdown",
   "metadata": {},
   "source": [
    "d. Визуализируйте данные, используя соответствующие графики (например, гистограммы, диаграммы рассеяния, квадратные диаграммы), чтобы получить представление о датасете.\n"
   ]
  },
  {
   "cell_type": "code",
   "execution_count": null,
   "metadata": {},
   "outputs": [],
   "source": [
    "# вычисляет матрицу корреляции Спирмена для количественных переменных в наборе данных, а затем строит тепловую карту для визуализации корреляций между  переменными.\n",
    "corr_matrix_spearman = quantitative_vars.corr(method=\"spearman\")\n",
    "\n",
    "\n",
    "plt.figure(figsize=(20, 18))\n",
    "\n",
    "sns.heatmap(corr_matrix_spearman, annot=True, cmap=\"coolwarm\", fmt=\".1f\", linewidths=0.5)\n",
    "plt.title(\"Spearman correlation\")\n",
    "plt.show()\n"
   ]
  },
  {
   "cell_type": "markdown",
   "metadata": {},
   "source": [
    "##### Переменные с наибольшей корреляцией:\n",
    "\n",
    "- `OverallQual` (Общее качество материала и отделки)\n",
    "- `YearBuilt` (Первоначальная дата постройки)\n",
    "- `YearRemodAdd` (Дата ремонта)\n",
    "- `TotalBsmtSF` (Общая площадь подвала в квадратных метрах)\n",
    "- `2ndFlrSF` (Площадь второго этажа, кв.)\n",
    "- `GrLivArea` (Жилая площадь над уровнем земли (земля), квадратные футы)\n",
    "- `FullBath` (Полноценные ванные комнаты над уровнем моря)\n",
    "- `GarageCars` (Размер гаража по вместимости автомобиля)\n",
    "- `SalePrice` (Цена продажи)"
   ]
  },
  {
   "cell_type": "code",
   "execution_count": null,
   "metadata": {},
   "outputs": [],
   "source": [
    "# создание парного графика для визуализации попарных отношений между выбранными столбцами.\n",
    "columns_with_name = [\"OverallQual\", \"YearBuilt\", \"YearRemodAdd\", \"TotalBsmtSF\", \"2ndFlrSF\", \"GrLivArea\", \"FullBath\", \"GarageCars\", \"SalePrice\"]\n",
    "\n",
    "selected_df = df[columns_with_name]\n",
    "sns.pairplot(selected_df)\n"
   ]
  },
  {
   "cell_type": "markdown",
   "metadata": {},
   "source": [
    "Выполните проектирование признаков путем реализации следующих преобразований:  \n",
    "- a. Работайте с категориальными переменными, применяя one-hot encoding или label encoding, в зависимости от характера переменной.\n"
   ]
  },
  {
   "cell_type": "code",
   "execution_count": null,
   "metadata": {},
   "outputs": [],
   "source": [
    "pd.reset_option(\"display.max_rows\")\n",
    "df_one_hot = pd.get_dummies(df, columns=[\"GarageType\"])\n",
    "df_one_hot\n"
   ]
  },
  {
   "cell_type": "code",
   "execution_count": null,
   "metadata": {},
   "outputs": [],
   "source": [
    "# создаем словарь сопоставления label_ranks, который присваивает числовые значения категориальным меткам столбца GarageQual. Словарь сопоставляет метки «Ex» с номером 1, «Gd» с номером 2, «TA» с номером 3, «Fa» с номером 4 и «Po» с номером 5.\n",
    "label_ranks = {\"Ex\": 1, \"Gd\": 2, \"TA\": 3, \"Fa\": 4, \"Po\": 5}\n",
    "df_one_hot[\"encoded_GarageQual\"] = df_one_hot[\"GarageQual\"].map(label_ranks)\n"
   ]
  },
  {
   "cell_type": "code",
   "execution_count": null,
   "metadata": {},
   "outputs": [],
   "source": [
    "# Проверка результатов перекодирования\n",
    "selected_columns = [\"GarageQual\", \"encoded_GarageQual\"]\n",
    "unique_df = df_one_hot[[\"GarageQual\", \"encoded_GarageQual\"]].drop_duplicates()\n",
    "unique_df\n"
   ]
  },
  {
   "cell_type": "markdown",
   "metadata": {},
   "source": [
    "- b. При необходимости создайте новые характеристики, такие как общая площадь или возраст объекта недвижимости, путем объединения существующих характеристик.\n"
   ]
  },
  {
   "cell_type": "code",
   "execution_count": null,
   "metadata": {},
   "outputs": [],
   "source": [
    "# Этот код создает новый столбец в DataFrame df_one_hot под названием «Гараж». Значения в этом новом столбце будут True, если какой-либо из выбранных столбцов («GarageType_2Types», «GarageType_Attchd», «GarageType_Basment», «GarageType_BuiltIn», «GarageType_CarPort», «GarageType_Detchd») имеет значение True\n",
    "\n",
    "selected_columns = [\"GarageType_2Types\", \"GarageType_Attchd\", \"GarageType_Basment\", \"GarageType_BuiltIn\", \"GarageType_CarPort\", \"GarageType_Detchd\"]\n",
    "df_one_hot[\"Garage\"] = df_one_hot[selected_columns].any(axis=1)\n",
    "df_one_hot\n"
   ]
  },
  {
   "cell_type": "markdown",
   "metadata": {},
   "source": [
    "6. Сохраните очищенный и преобразованный набор данных в новый CSV-файл под названием 'cleaned_house_prices.csv'.\n"
   ]
  },
  {
   "cell_type": "code",
   "execution_count": null,
   "metadata": {},
   "outputs": [],
   "source": [
    "df_one_hot.to_csv(\"cleaned_house_prices.csv\", index=False)\n"
   ]
  }
 ],
 "metadata": {
  "kernelspec": {
   "display_name": "Python 3 (ipykernel)",
   "language": "python",
   "name": "python3"
  },
  "language_info": {
   "codemirror_mode": {
    "name": "ipython",
    "version": 3
   },
   "file_extension": ".py",
   "mimetype": "text/x-python",
   "name": "python",
   "nbconvert_exporter": "python",
   "pygments_lexer": "ipython3",
   "version": "3.12.3"
  },
  "vscode": {
   "interpreter": {
    "hash": "5238573367df39f7286bb46f9ff5f08f63a01a80960060ce41e3c79b190280fa"
   }
  }
 },
 "nbformat": 4,
 "nbformat_minor": 4
}
